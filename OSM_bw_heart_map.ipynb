{
  "cells": [
    {
      "cell_type": "markdown",
      "metadata": {
        "id": "view-in-github",
        "colab_type": "text"
      },
      "source": [
        "<a href=\"https://colab.research.google.com/github/rejexx/map_challenge/blob/main/OSM_bw_heart_map.ipynb\" target=\"_parent\"><img src=\"https://colab.research.google.com/assets/colab-badge.svg\" alt=\"Open In Colab\"/></a>"
      ]
    },
    {
      "cell_type": "markdown",
      "source": [
        "# Open street map with labels\n",
        "\n",
        "## quickstart\n",
        "Scroll to the bottom cell, enter lat, long, and a caption. Run all cells\n",
        "\n",
        "## notes\n",
        "I got this code a few years back from another notebook (sorry, I didn't save\n",
        "the source!).  I wrapped it in a function and added a few other minor modifications.\n",
        "\n",
        "I have some code that doesn't work well for changing the font.  If you upload\n",
        "a font, you can change the function section to get it to work (see \"marker\" font).\n",
        "\n",
        "The saved output has a label and looks better than the colab output.  Use that."
      ],
      "metadata": {
        "id": "epHIjDd4WITk"
      }
    },
    {
      "cell_type": "code",
      "execution_count": null,
      "metadata": {
        "id": "pXH3GTjWgIub"
      },
      "outputs": [],
      "source": [
        "!pip install osmnx"
      ]
    },
    {
      "cell_type": "code",
      "execution_count": null,
      "metadata": {
        "id": "66wRhkKKf-al"
      },
      "outputs": [],
      "source": [
        "######\n",
        "# This is a big function and setup\n",
        "# If you want to change the colors or style, do so here\n",
        "# For the quick version, change the function call in the next cell\n",
        "######\n",
        "\n",
        "\n",
        "# this is Jupyter-Lab example Python code\n",
        "# if you run it in Python just remove \"%matplotlib inline\"\n",
        "# and add \"plt.ion()\" after all the imports.\n",
        "%matplotlib inline\n",
        "import osmnx as ox\n",
        "import matplotlib as mpl\n",
        "import matplotlib.pyplot as plt\n",
        "import numpy as np\n",
        "from math import *\n",
        "ox.config(log_file=True, log_console=True, use_cache=True)\n",
        "def dec2dms(degrees, prettify=True):\n",
        "    # Convert between decimal degree and\n",
        "    # degrees, minutes and seconds (sexadecimal).\n",
        "    if type(degrees) != 'float':\n",
        "        try:\n",
        "            deg = float(degrees)\n",
        "        except:\n",
        "            print( '\\nERROR: Could not convert {0} to     float.'.format(type(degrees)) )\n",
        "    minutes = degrees%1.0*60\n",
        "    seconds = minutes%1.0*60\n",
        "    if prettify:\n",
        "        return '\\n{0:d}°{1:d}\\'{2:.2f}\"\\n'.format( int(floor(degrees)), int(floor(minutes)), seconds )\n",
        "    else:\n",
        "        return int(floor(degrees)), int(floor(minutes)), seconds\n",
        "\n",
        "def make_map(place_title, home_coords, dist=3000, dpi=300, out_file=\"output\",\n",
        "             show_buildings=False, font_type=\"default\"):\n",
        "  # customize the line thickness\n",
        "  street_widths = {'footway' : 0.5,\n",
        "                  'steps' : 0.5,\n",
        "                  'pedestrian' : 0.5,\n",
        "                  'path' : 0.5,\n",
        "                  'track' : 0.5,\n",
        "                  'service' : 1,\n",
        "                  'residential' : 2,\n",
        "                  'primary' : 2,\n",
        "                  'motorway' : 3,\n",
        "                  'highway' : 3}\n",
        "  # Locations\n",
        "  place = place_title #'Spring, Texas'\n",
        "  home_coords = home_coords#[30.100914, -95.391208]\n",
        "  map_settings = dict(\n",
        "      dist=dist,\n",
        "      edge_color='k',\n",
        "      bgcolor='w',\n",
        "      dpi = dpi, # upscale for higher quality maps to 1200\n",
        "      point = home_coords,\n",
        "      default_width=1,\n",
        "  )\n",
        "\n",
        "  # This is what plots the street network\n",
        "  fig, ax = ox.plot_figure_ground(network_type='all',\n",
        "                                  street_widths=street_widths,\n",
        "                                  **map_settings)\n",
        "  # Put a red dot somewhere interesting\n",
        "  home_lat, home_lon = home_coords\n",
        "\n",
        "  # could use 'o' for a circle marker, heart is ur'$\\u2665$'\n",
        "  ax.plot(home_lon, home_lat, marker='$\\u2665$', markersize=14, alpha=1, color='#CC3344', zorder=5 )\n",
        "\n",
        "  # Now print out the name and the coordinates of the city\n",
        "\n",
        "  if font_type == 'marker':\n",
        "    marker_font_url = '[your url to true type font to use]'\n",
        "    marker_font_path = '/content/PermanentMarker.ttf' # uploaded font, it appears in google colab here\n",
        "    fntprop_coord = mpl.font_manager.FontProperties(fname = marker_font_path, size = 14)\n",
        "    fntprop_name = mpl.font_manager.FontProperties(fname = marker_font_path, size = 30)\n",
        "\n",
        "    # This doesn't work, not sure why, I've just uploaded it\n",
        "    #fntprop_coord = mpl.font_manager.FontProperties(family='Permanent+Marker', size=12)\n",
        "    #fntprop_name = mpl.font_manager.FontProperties(family='Permanent+Marker', size=30)\n",
        "  else:\n",
        "    # the font Comfortaa is a Google font available here\n",
        "    # https://fonts.google.com/specimen/Comfortaa\n",
        "    fntprop_coord = mpl.font_manager.FontProperties(family='Comfortaa', size=12)\n",
        "    fntprop_name = mpl.font_manager.FontProperties(family='Comfortaa', variant='small-caps', size=30)\n",
        "\n",
        "  long_lat_string = \"{0[0]:02d}°{0[1]:02d}\\'{0[2]:02.0f}\\\"N {1[0]:03d}°E {1[1]:02d}\\'{1[2]:02.0f}\\\" \".format(\n",
        "                                      dec2dms(home_coords[0], prettify=False), dec2dms(home_coords[1], prettify=False))\n",
        "  # coordinate text\n",
        "  an1 = ax.annotate(long_lat_string,\n",
        "              xy=(0.322,0.1),xycoords='figure fraction',\n",
        "              ha=\"center\", va='center',\n",
        "              xytext=(0.5,0.1),textcoords='figure fraction',\n",
        "              fontproperties=fntprop_coord,\n",
        "            )\n",
        "  # location text\n",
        "  an1 = ax.annotate(place,\n",
        "              xy=(0.322,0.08),xycoords='figure fraction',\n",
        "              ha=\"center\", va='top',\n",
        "              xytext=(0.5,0.08),textcoords='figure fraction',\n",
        "              #arrowprops=dict(arrowstyle=\"]-\"),\n",
        "              fontproperties=fntprop_name,\n",
        "            )\n",
        "  # Attempted moving long-lat to side, but I like it better with the location actually\n",
        "  # this code puts it along the side of the image if you prefer\n",
        "  # an3 = ax.annotate(long_lat_string,\n",
        "  #             xy=(0.322,0.9),xycoords='figure fraction',\n",
        "  #             ha=\"center\", va='center',\n",
        "  #              xytext=(0.12,0.6),textcoords='figure fraction',\n",
        "  #             rotation = 90,\n",
        "  #             fontproperties=fntprop_coord,\n",
        "  #            )\n",
        "  # the aspect ratio of the figure need to be 1/cosine(latitude)\n",
        "  # - This seems to mess up the proportions, I prefer normal aspect\n",
        "  #coslat = np.cos(np.cos(map_settings['point'][1] / 180. * np.pi) )\n",
        "  #ax.set_aspect(1/coslat)\n",
        "  fig.set_figwidth(7)\n",
        "  # save the figure in the 'images' folder\n",
        "  fig.savefig(f'{out_file}.png', dpi=dpi)\n",
        "  fig"
      ]
    },
    {
      "cell_type": "code",
      "execution_count": null,
      "metadata": {
        "id": "enQgv_anTQHY"
      },
      "outputs": [],
      "source": [
        "\n",
        "make_map(\"OSM HQ, Cambridge, UK\",\n",
        "         [52.55098, -1.81860],  # where to put icon and center the map\n",
        "         dist=2000,  # how far to zoom out from center point\n",
        "         dpi=150, # try 1200 for print quality\n",
        "         out_file=\"OSM_HQ\")  # saves a file with this name on google colab\n",
        "# Once this completes, download the file from colab using the folder button\n",
        "# in toolbar to the left.  It has a caption and better resolution than the\n",
        "# preview below."
      ]
    },
    {
      "cell_type": "code",
      "source": [],
      "metadata": {
        "id": "LlyeRiYbK4Md"
      },
      "execution_count": null,
      "outputs": []
    }
  ],
  "metadata": {
    "colab": {
      "provenance": [],
      "authorship_tag": "ABX9TyNeBD1vf8MOB7jgI2pPsQey",
      "include_colab_link": true
    },
    "kernelspec": {
      "display_name": "Python 3",
      "name": "python3"
    },
    "language_info": {
      "name": "python"
    }
  },
  "nbformat": 4,
  "nbformat_minor": 0
}